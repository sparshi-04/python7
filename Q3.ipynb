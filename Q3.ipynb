{
  "nbformat": 4,
  "nbformat_minor": 0,
  "metadata": {
    "colab": {
      "provenance": []
    },
    "kernelspec": {
      "name": "python3",
      "display_name": "Python 3"
    },
    "language_info": {
      "name": "python"
    }
  },
  "cells": [
    {
      "cell_type": "code",
      "execution_count": null,
      "metadata": {
        "id": "1aAok8yj7evD",
        "colab": {
          "base_uri": "https://localhost:8080/"
        },
        "outputId": "04e49662-0435-417c-82fd-6d20c5ea4579"
      },
      "outputs": [
        {
          "output_type": "stream",
          "name": "stdout",
          "text": [
            "3D array:\n",
            "[[[2 2 2 2 2]\n",
            "  [2 2 2 2 2]\n",
            "  [2 2 2 2 2]\n",
            "  [2 2 2 2 2]]\n",
            "\n",
            " [[2 2 2 2 2]\n",
            "  [2 2 2 2 2]\n",
            "  [2 2 2 2 2]\n",
            "  [2 2 2 2 2]]\n",
            "\n",
            " [[2 2 2 2 2]\n",
            "  [2 2 2 2 2]\n",
            "  [2 2 2 2 2]\n",
            "  [2 2 2 2 2]]]\n"
          ]
        }
      ],
      "source": [
        "import numpy as np\n",
        "\n",
        "def create_array(dim1,dim2,dim3,ini_val):\n",
        "  array = np.full((dim1, dim2, dim3), ini_val)\n",
        "  return array\n",
        "\n",
        "dim1 = 3\n",
        "dim2 = 4\n",
        "dim3 = 5\n",
        "ini_val = 2\n",
        "result_array = create_array(dim1, dim2, dim3, ini_val)\n",
        "\n",
        "print('3D array:')\n",
        "print(result_array)"
      ]
    }
  ]
}